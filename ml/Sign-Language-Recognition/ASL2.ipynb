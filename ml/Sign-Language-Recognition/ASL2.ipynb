{
  "nbformat": 4,
  "nbformat_minor": 0,
  "metadata": {
    "colab": {
      "name": "ASL.ipynb",
      "version": "0.3.2",
      "provenance": [],
      "collapsed_sections": [],
      "include_colab_link": true
    },
    "kernelspec": {
      "name": "python3",
      "display_name": "Python 3"
    },
    "accelerator": "GPU"
  },
  "cells": [
    {
      "cell_type": "markdown",
      "metadata": {
        "id": "view-in-github",
        "colab_type": "text"
      },
      "source": [
        "<a href=\"https://colab.research.google.com/github/Arshad221b/Sign-Language-Recognition-/blob/master/ASL2.ipynb\" target=\"_parent\"><img src=\"https://colab.research.google.com/assets/colab-badge.svg\" alt=\"Open In Colab\"/></a>"
      ]
    },
    {
      "metadata": {
        "id": "imJ4pdxMFuob",
        "colab_type": "code",
        "outputId": "00e50642-4322-4f4e-e497-011de77529b8",
        "colab": {
          "base_uri": "https://localhost:8080/",
          "height": 74
        }
      },
      "cell_type": "code",
      "source": [
        "import keras\n",
        "import numpy as np\n",
        "import pandas as pd\n",
        "import cv2 \n",
        "from keras.models import Sequential \n",
        "from keras.layers import Conv2D,MaxPooling2D, Dense,Flatten\n",
        "from keras.datasets import mnist \n",
        "import matplotlib.pyplot as plt\n",
        "from keras.utils import np_utils\n",
        "from keras.optimizers import SGD"
      ],
      "execution_count": 2,
      "outputs": [
        {
          "output_type": "stream",
          "text": [
            "Using TensorFlow backend.\n"
          ],
          "name": "stderr"
        }
      ]
    },
    {
      "metadata": {
        "id": "qIP4zEpGGYl1",
        "colab_type": "code",
        "outputId": "fc05d15f-6713-4e3b-f9e6-849225009a4d",
        "colab": {
          "base_uri": "https://localhost:8080/",
          "height": 403
        }
      },
      "cell_type": "code",
      "source": [
        "!pip install PyDrive"
      ],
      "execution_count": 3,
      "outputs": [
        {
          "output_type": "stream",
          "text": [
            "Collecting PyDrive\n",
            "\u001b[?25l  Downloading https://files.pythonhosted.org/packages/52/e0/0e64788e5dd58ce2d6934549676243dc69d982f198524be9b99e9c2a4fd5/PyDrive-1.3.1.tar.gz (987kB)\n",
            "\r\u001b[K    1% |▎                               | 10kB 17.4MB/s eta 0:00:01\r\u001b[K    2% |▋                               | 20kB 4.6MB/s eta 0:00:01\r\u001b[K    3% |█                               | 30kB 6.5MB/s eta 0:00:01\r\u001b[K    4% |█▎                              | 40kB 4.4MB/s eta 0:00:01\r\u001b[K    5% |█▋                              | 51kB 5.3MB/s eta 0:00:01\r\u001b[K    6% |██                              | 61kB 6.2MB/s eta 0:00:01\r\u001b[K    7% |██▎                             | 71kB 7.0MB/s eta 0:00:01\r\u001b[K    8% |██▋                             | 81kB 7.7MB/s eta 0:00:01\r\u001b[K    9% |███                             | 92kB 8.6MB/s eta 0:00:01\r\u001b[K    10% |███▎                            | 102kB 7.3MB/s eta 0:00:01\r\u001b[K    11% |███▋                            | 112kB 7.5MB/s eta 0:00:01\r\u001b[K    12% |████                            | 122kB 10.2MB/s eta 0:00:01\r\u001b[K    13% |████▎                           | 133kB 10.2MB/s eta 0:00:01\r\u001b[K    14% |████▋                           | 143kB 17.6MB/s eta 0:00:01\r\u001b[K    15% |█████                           | 153kB 17.9MB/s eta 0:00:01\r\u001b[K    16% |█████▎                          | 163kB 18.0MB/s eta 0:00:01\r\u001b[K    17% |█████▋                          | 174kB 17.9MB/s eta 0:00:01\r\u001b[K    18% |██████                          | 184kB 18.3MB/s eta 0:00:01\r\u001b[K    19% |██████▎                         | 194kB 18.4MB/s eta 0:00:01\r\u001b[K    20% |██████▋                         | 204kB 20.6MB/s eta 0:00:01\r\u001b[K    21% |███████                         | 215kB 19.5MB/s eta 0:00:01\r\u001b[K    22% |███████▎                        | 225kB 19.8MB/s eta 0:00:01\r\u001b[K    23% |███████▋                        | 235kB 20.2MB/s eta 0:00:01\r\u001b[K    24% |████████                        | 245kB 20.1MB/s eta 0:00:01\r\u001b[K    25% |████████▎                       | 256kB 20.0MB/s eta 0:00:01\r\u001b[K    26% |████████▋                       | 266kB 19.0MB/s eta 0:00:01\r\u001b[K    27% |█████████                       | 276kB 19.6MB/s eta 0:00:01\r\u001b[K    29% |█████████▎                      | 286kB 19.6MB/s eta 0:00:01\r\u001b[K    30% |█████████▋                      | 296kB 19.6MB/s eta 0:00:01\r\u001b[K    31% |██████████                      | 307kB 36.6MB/s eta 0:00:01\r\u001b[K    32% |██████████▎                     | 317kB 43.0MB/s eta 0:00:01\r\u001b[K    33% |██████████▋                     | 327kB 41.8MB/s eta 0:00:01\r\u001b[K    34% |███████████                     | 337kB 42.3MB/s eta 0:00:01\r\u001b[K    35% |███████████▎                    | 348kB 38.9MB/s eta 0:00:01\r\u001b[K    36% |███████████▋                    | 358kB 42.3MB/s eta 0:00:01\r\u001b[K    37% |████████████                    | 368kB 49.5MB/s eta 0:00:01\r\u001b[K    38% |████████████▎                   | 378kB 49.3MB/s eta 0:00:01\r\u001b[K    39% |████████████▋                   | 389kB 49.5MB/s eta 0:00:01\r\u001b[K    40% |█████████████                   | 399kB 34.9MB/s eta 0:00:01\r\u001b[K    41% |█████████████▎                  | 409kB 34.5MB/s eta 0:00:01\r\u001b[K    42% |█████████████▋                  | 419kB 34.3MB/s eta 0:00:01\r\u001b[K    43% |██████████████                  | 430kB 34.2MB/s eta 0:00:01\r\u001b[K    44% |██████████████▎                 | 440kB 33.4MB/s eta 0:00:01\r\u001b[K    45% |██████████████▋                 | 450kB 33.6MB/s eta 0:00:01\r\u001b[K    46% |███████████████                 | 460kB 33.3MB/s eta 0:00:01\r\u001b[K    47% |███████████████▎                | 471kB 33.5MB/s eta 0:00:01\r\u001b[K    48% |███████████████▋                | 481kB 33.3MB/s eta 0:00:01\r\u001b[K    49% |████████████████                | 491kB 33.4MB/s eta 0:00:01\r\u001b[K    50% |████████████████▎               | 501kB 46.6MB/s eta 0:00:01\r\u001b[K    51% |████████████████▋               | 512kB 44.5MB/s eta 0:00:01\r\u001b[K    52% |█████████████████               | 522kB 45.5MB/s eta 0:00:01\r\u001b[K    53% |█████████████████▎              | 532kB 46.7MB/s eta 0:00:01\r\u001b[K    54% |█████████████████▋              | 542kB 47.9MB/s eta 0:00:01\r\u001b[K    55% |██████████████████              | 552kB 53.5MB/s eta 0:00:01\r\u001b[K    57% |██████████████████▎             | 563kB 54.3MB/s eta 0:00:01\r\u001b[K    58% |██████████████████▋             | 573kB 53.5MB/s eta 0:00:01\r\u001b[K    59% |███████████████████             | 583kB 54.5MB/s eta 0:00:01\r\u001b[K    60% |███████████████████▎            | 593kB 53.2MB/s eta 0:00:01\r\u001b[K    61% |███████████████████▋            | 604kB 51.3MB/s eta 0:00:01\r\u001b[K    62% |████████████████████            | 614kB 53.1MB/s eta 0:00:01\r\u001b[K    63% |████████████████████▎           | 624kB 48.5MB/s eta 0:00:01\r\u001b[K    64% |████████████████████▋           | 634kB 46.0MB/s eta 0:00:01\r\u001b[K    65% |█████████████████████           | 645kB 46.2MB/s eta 0:00:01\r\u001b[K    66% |█████████████████████▎          | 655kB 45.4MB/s eta 0:00:01\r\u001b[K    67% |█████████████████████▋          | 665kB 37.2MB/s eta 0:00:01\r\u001b[K    68% |██████████████████████          | 675kB 36.7MB/s eta 0:00:01\r\u001b[K    69% |██████████████████████▎         | 686kB 36.7MB/s eta 0:00:01\r\u001b[K    70% |██████████████████████▋         | 696kB 37.5MB/s eta 0:00:01\r\u001b[K    71% |███████████████████████         | 706kB 38.2MB/s eta 0:00:01\r\u001b[K    72% |███████████████████████▎        | 716kB 39.0MB/s eta 0:00:01\r\u001b[K    73% |███████████████████████▋        | 727kB 41.1MB/s eta 0:00:01\r\u001b[K    74% |████████████████████████        | 737kB 43.0MB/s eta 0:00:01\r\u001b[K    75% |████████████████████████▎       | 747kB 43.4MB/s eta 0:00:01\r\u001b[K    76% |████████████████████████▋       | 757kB 44.1MB/s eta 0:00:01\r\u001b[K    77% |████████████████████████▉       | 768kB 54.5MB/s eta 0:00:01\r\u001b[K    78% |█████████████████████████▏      | 778kB 52.6MB/s eta 0:00:01\r\u001b[K    79% |█████████████████████████▌      | 788kB 51.2MB/s eta 0:00:01\r\u001b[K    80% |█████████████████████████▉      | 798kB 51.3MB/s eta 0:00:01\r\u001b[K    81% |██████████████████████████▏     | 808kB 50.8MB/s eta 0:00:01\r\u001b[K    82% |██████████████████████████▌     | 819kB 50.5MB/s eta 0:00:01\r\u001b[K    83% |██████████████████████████▉     | 829kB 51.0MB/s eta 0:00:01\r\u001b[K    85% |███████████████████████████▏    | 839kB 49.5MB/s eta 0:00:01\r\u001b[K    86% |███████████████████████████▌    | 849kB 49.7MB/s eta 0:00:01\r\u001b[K    87% |███████████████████████████▉    | 860kB 45.8MB/s eta 0:00:01\r\u001b[K    88% |████████████████████████████▏   | 870kB 46.4MB/s eta 0:00:01\r\u001b[K    89% |████████████████████████████▌   | 880kB 49.2MB/s eta 0:00:01\r\u001b[K    90% |████████████████████████████▉   | 890kB 50.2MB/s eta 0:00:01\r\u001b[K    91% |█████████████████████████████▏  | 901kB 49.9MB/s eta 0:00:01\r\u001b[K    92% |█████████████████████████████▌  | 911kB 50.5MB/s eta 0:00:01\r\u001b[K    93% |█████████████████████████████▉  | 921kB 50.4MB/s eta 0:00:01\r\u001b[K    94% |██████████████████████████████▏ | 931kB 50.0MB/s eta 0:00:01\r\u001b[K    95% |██████████████████████████████▌ | 942kB 50.3MB/s eta 0:00:01\r\u001b[K    96% |██████████████████████████████▉ | 952kB 50.0MB/s eta 0:00:01\r\u001b[K    97% |███████████████████████████████▏| 962kB 55.1MB/s eta 0:00:01\r\u001b[K    98% |███████████████████████████████▌| 972kB 55.7MB/s eta 0:00:01\r\u001b[K    99% |███████████████████████████████▉| 983kB 55.0MB/s eta 0:00:01\r\u001b[K    100% |████████████████████████████████| 993kB 21.0MB/s \n",
            "\u001b[?25hRequirement already satisfied: google-api-python-client>=1.2 in /usr/local/lib/python3.6/dist-packages (from PyDrive) (1.6.7)\n",
            "Requirement already satisfied: oauth2client>=4.0.0 in /usr/local/lib/python3.6/dist-packages (from PyDrive) (4.1.3)\n",
            "Requirement already satisfied: PyYAML>=3.0 in /usr/local/lib/python3.6/dist-packages (from PyDrive) (3.13)\n",
            "Requirement already satisfied: six<2dev,>=1.6.1 in /usr/local/lib/python3.6/dist-packages (from google-api-python-client>=1.2->PyDrive) (1.11.0)\n",
            "Requirement already satisfied: httplib2<1dev,>=0.9.2 in /usr/local/lib/python3.6/dist-packages (from google-api-python-client>=1.2->PyDrive) (0.11.3)\n",
            "Requirement already satisfied: uritemplate<4dev,>=3.0.0 in /usr/local/lib/python3.6/dist-packages (from google-api-python-client>=1.2->PyDrive) (3.0.0)\n",
            "Requirement already satisfied: pyasn1>=0.1.7 in /usr/local/lib/python3.6/dist-packages (from oauth2client>=4.0.0->PyDrive) (0.4.5)\n",
            "Requirement already satisfied: pyasn1-modules>=0.0.5 in /usr/local/lib/python3.6/dist-packages (from oauth2client>=4.0.0->PyDrive) (0.2.4)\n",
            "Requirement already satisfied: rsa>=3.1.4 in /usr/local/lib/python3.6/dist-packages (from oauth2client>=4.0.0->PyDrive) (4.0)\n",
            "Building wheels for collected packages: PyDrive\n",
            "  Building wheel for PyDrive (setup.py) ... \u001b[?25ldone\n",
            "\u001b[?25h  Stored in directory: /root/.cache/pip/wheels/fa/d2/9a/d3b6b506c2da98289e5d417215ce34b696db856643bad779f4\n",
            "Successfully built PyDrive\n",
            "Installing collected packages: PyDrive\n",
            "Successfully installed PyDrive-1.3.1\n"
          ],
          "name": "stdout"
        }
      ]
    },
    {
      "metadata": {
        "id": "ijUASkTROl6D",
        "colab_type": "code",
        "colab": {}
      },
      "cell_type": "code",
      "source": [
        "import os\n",
        "from pydrive.auth import GoogleAuth\n",
        "from pydrive.drive import GoogleDrive\n",
        "from google.colab import auth\n",
        "from oauth2client.client import GoogleCredentials"
      ],
      "execution_count": 0,
      "outputs": []
    },
    {
      "metadata": {
        "id": "2yEzz9S4RdR9",
        "colab_type": "code",
        "colab": {}
      },
      "cell_type": "code",
      "source": [
        "auth.authenticate_user()\n",
        "gauth = GoogleAuth()\n",
        "gauth.credentials = GoogleCredentials.get_application_default()\n",
        "drive = GoogleDrive(gauth)"
      ],
      "execution_count": 0,
      "outputs": []
    },
    {
      "metadata": {
        "id": "Z6DDOrSbRqA3",
        "colab_type": "code",
        "colab": {}
      },
      "cell_type": "code",
      "source": [
        "download = drive.CreateFile({'id': '1wG0gS-bqjV6yz1YveuxkvHT5_2DOuT05'})\n",
        "download.GetContentFile('train.csv')\n",
        "train = pd.read_csv('train.csv')"
      ],
      "execution_count": 0,
      "outputs": []
    },
    {
      "metadata": {
        "id": "2Rc5CNhVRs4b",
        "colab_type": "code",
        "colab": {}
      },
      "cell_type": "code",
      "source": [
        "download = drive.CreateFile({'id': '1q_Zwlu3RncjKq1YpiVtkiMPxIIueGRYB'})\n",
        "download.GetContentFile('test.csv')\n",
        "test = pd.read_csv('test.csv')"
      ],
      "execution_count": 0,
      "outputs": []
    },
    {
      "metadata": {
        "id": "Bzui153jR012",
        "colab_type": "code",
        "outputId": "fa16d255-5c14-4976-b736-839e39a32c61",
        "colab": {
          "base_uri": "https://localhost:8080/",
          "height": 499
        }
      },
      "cell_type": "code",
      "source": [
        "display(train.info())\n",
        "\n",
        "display(test.info())\n",
        "\n",
        "display(train.head(n = 2))\n",
        "display(test.head(n = 2))"
      ],
      "execution_count": 8,
      "outputs": [
        {
          "output_type": "stream",
          "text": [
            "<class 'pandas.core.frame.DataFrame'>\n",
            "RangeIndex: 27455 entries, 0 to 27454\n",
            "Columns: 785 entries, label to pixel784\n",
            "dtypes: int64(785)\n",
            "memory usage: 164.4 MB\n"
          ],
          "name": "stdout"
        },
        {
          "output_type": "display_data",
          "data": {
            "text/plain": [
              "None"
            ]
          },
          "metadata": {
            "tags": []
          }
        },
        {
          "output_type": "stream",
          "text": [
            "<class 'pandas.core.frame.DataFrame'>\n",
            "RangeIndex: 7172 entries, 0 to 7171\n",
            "Columns: 785 entries, label to pixel784\n",
            "dtypes: int64(785)\n",
            "memory usage: 43.0 MB\n"
          ],
          "name": "stdout"
        },
        {
          "output_type": "display_data",
          "data": {
            "text/plain": [
              "None"
            ]
          },
          "metadata": {
            "tags": []
          }
        },
        {
          "output_type": "display_data",
          "data": {
            "text/html": [
              "<div>\n",
              "<style scoped>\n",
              "    .dataframe tbody tr th:only-of-type {\n",
              "        vertical-align: middle;\n",
              "    }\n",
              "\n",
              "    .dataframe tbody tr th {\n",
              "        vertical-align: top;\n",
              "    }\n",
              "\n",
              "    .dataframe thead th {\n",
              "        text-align: right;\n",
              "    }\n",
              "</style>\n",
              "<table border=\"1\" class=\"dataframe\">\n",
              "  <thead>\n",
              "    <tr style=\"text-align: right;\">\n",
              "      <th></th>\n",
              "      <th>label</th>\n",
              "      <th>pixel1</th>\n",
              "      <th>pixel2</th>\n",
              "      <th>pixel3</th>\n",
              "      <th>pixel4</th>\n",
              "      <th>pixel5</th>\n",
              "      <th>pixel6</th>\n",
              "      <th>pixel7</th>\n",
              "      <th>pixel8</th>\n",
              "      <th>pixel9</th>\n",
              "      <th>...</th>\n",
              "      <th>pixel775</th>\n",
              "      <th>pixel776</th>\n",
              "      <th>pixel777</th>\n",
              "      <th>pixel778</th>\n",
              "      <th>pixel779</th>\n",
              "      <th>pixel780</th>\n",
              "      <th>pixel781</th>\n",
              "      <th>pixel782</th>\n",
              "      <th>pixel783</th>\n",
              "      <th>pixel784</th>\n",
              "    </tr>\n",
              "  </thead>\n",
              "  <tbody>\n",
              "    <tr>\n",
              "      <th>0</th>\n",
              "      <td>3</td>\n",
              "      <td>107</td>\n",
              "      <td>118</td>\n",
              "      <td>127</td>\n",
              "      <td>134</td>\n",
              "      <td>139</td>\n",
              "      <td>143</td>\n",
              "      <td>146</td>\n",
              "      <td>150</td>\n",
              "      <td>153</td>\n",
              "      <td>...</td>\n",
              "      <td>207</td>\n",
              "      <td>207</td>\n",
              "      <td>207</td>\n",
              "      <td>207</td>\n",
              "      <td>206</td>\n",
              "      <td>206</td>\n",
              "      <td>206</td>\n",
              "      <td>204</td>\n",
              "      <td>203</td>\n",
              "      <td>202</td>\n",
              "    </tr>\n",
              "    <tr>\n",
              "      <th>1</th>\n",
              "      <td>6</td>\n",
              "      <td>155</td>\n",
              "      <td>157</td>\n",
              "      <td>156</td>\n",
              "      <td>156</td>\n",
              "      <td>156</td>\n",
              "      <td>157</td>\n",
              "      <td>156</td>\n",
              "      <td>158</td>\n",
              "      <td>158</td>\n",
              "      <td>...</td>\n",
              "      <td>69</td>\n",
              "      <td>149</td>\n",
              "      <td>128</td>\n",
              "      <td>87</td>\n",
              "      <td>94</td>\n",
              "      <td>163</td>\n",
              "      <td>175</td>\n",
              "      <td>103</td>\n",
              "      <td>135</td>\n",
              "      <td>149</td>\n",
              "    </tr>\n",
              "  </tbody>\n",
              "</table>\n",
              "<p>2 rows × 785 columns</p>\n",
              "</div>"
            ],
            "text/plain": [
              "   label  pixel1  pixel2  pixel3  pixel4  pixel5  pixel6  pixel7  pixel8  \\\n",
              "0      3     107     118     127     134     139     143     146     150   \n",
              "1      6     155     157     156     156     156     157     156     158   \n",
              "\n",
              "   pixel9    ...     pixel775  pixel776  pixel777  pixel778  pixel779  \\\n",
              "0     153    ...          207       207       207       207       206   \n",
              "1     158    ...           69       149       128        87        94   \n",
              "\n",
              "   pixel780  pixel781  pixel782  pixel783  pixel784  \n",
              "0       206       206       204       203       202  \n",
              "1       163       175       103       135       149  \n",
              "\n",
              "[2 rows x 785 columns]"
            ]
          },
          "metadata": {
            "tags": []
          }
        },
        {
          "output_type": "display_data",
          "data": {
            "text/html": [
              "<div>\n",
              "<style scoped>\n",
              "    .dataframe tbody tr th:only-of-type {\n",
              "        vertical-align: middle;\n",
              "    }\n",
              "\n",
              "    .dataframe tbody tr th {\n",
              "        vertical-align: top;\n",
              "    }\n",
              "\n",
              "    .dataframe thead th {\n",
              "        text-align: right;\n",
              "    }\n",
              "</style>\n",
              "<table border=\"1\" class=\"dataframe\">\n",
              "  <thead>\n",
              "    <tr style=\"text-align: right;\">\n",
              "      <th></th>\n",
              "      <th>label</th>\n",
              "      <th>pixel1</th>\n",
              "      <th>pixel2</th>\n",
              "      <th>pixel3</th>\n",
              "      <th>pixel4</th>\n",
              "      <th>pixel5</th>\n",
              "      <th>pixel6</th>\n",
              "      <th>pixel7</th>\n",
              "      <th>pixel8</th>\n",
              "      <th>pixel9</th>\n",
              "      <th>...</th>\n",
              "      <th>pixel775</th>\n",
              "      <th>pixel776</th>\n",
              "      <th>pixel777</th>\n",
              "      <th>pixel778</th>\n",
              "      <th>pixel779</th>\n",
              "      <th>pixel780</th>\n",
              "      <th>pixel781</th>\n",
              "      <th>pixel782</th>\n",
              "      <th>pixel783</th>\n",
              "      <th>pixel784</th>\n",
              "    </tr>\n",
              "  </thead>\n",
              "  <tbody>\n",
              "    <tr>\n",
              "      <th>0</th>\n",
              "      <td>6</td>\n",
              "      <td>149</td>\n",
              "      <td>149</td>\n",
              "      <td>150</td>\n",
              "      <td>150</td>\n",
              "      <td>150</td>\n",
              "      <td>151</td>\n",
              "      <td>151</td>\n",
              "      <td>150</td>\n",
              "      <td>151</td>\n",
              "      <td>...</td>\n",
              "      <td>138</td>\n",
              "      <td>148</td>\n",
              "      <td>127</td>\n",
              "      <td>89</td>\n",
              "      <td>82</td>\n",
              "      <td>96</td>\n",
              "      <td>106</td>\n",
              "      <td>112</td>\n",
              "      <td>120</td>\n",
              "      <td>107</td>\n",
              "    </tr>\n",
              "    <tr>\n",
              "      <th>1</th>\n",
              "      <td>5</td>\n",
              "      <td>126</td>\n",
              "      <td>128</td>\n",
              "      <td>131</td>\n",
              "      <td>132</td>\n",
              "      <td>133</td>\n",
              "      <td>134</td>\n",
              "      <td>135</td>\n",
              "      <td>135</td>\n",
              "      <td>136</td>\n",
              "      <td>...</td>\n",
              "      <td>47</td>\n",
              "      <td>104</td>\n",
              "      <td>194</td>\n",
              "      <td>183</td>\n",
              "      <td>186</td>\n",
              "      <td>184</td>\n",
              "      <td>184</td>\n",
              "      <td>184</td>\n",
              "      <td>182</td>\n",
              "      <td>180</td>\n",
              "    </tr>\n",
              "  </tbody>\n",
              "</table>\n",
              "<p>2 rows × 785 columns</p>\n",
              "</div>"
            ],
            "text/plain": [
              "   label  pixel1  pixel2  pixel3  pixel4  pixel5  pixel6  pixel7  pixel8  \\\n",
              "0      6     149     149     150     150     150     151     151     150   \n",
              "1      5     126     128     131     132     133     134     135     135   \n",
              "\n",
              "   pixel9    ...     pixel775  pixel776  pixel777  pixel778  pixel779  \\\n",
              "0     151    ...          138       148       127        89        82   \n",
              "1     136    ...           47       104       194       183       186   \n",
              "\n",
              "   pixel780  pixel781  pixel782  pixel783  pixel784  \n",
              "0        96       106       112       120       107  \n",
              "1       184       184       184       182       180  \n",
              "\n",
              "[2 rows x 785 columns]"
            ]
          },
          "metadata": {
            "tags": []
          }
        }
      ]
    },
    {
      "metadata": {
        "id": "Yim557wpbSf_",
        "colab_type": "code",
        "colab": {}
      },
      "cell_type": "code",
      "source": [
        "train_Y = train['label']\n",
        "test_Y = test['label']\n",
        "train_X = train.drop(['label'],axis = 1)\n",
        "test_X = test.drop(['label'],axis = 1)"
      ],
      "execution_count": 0,
      "outputs": []
    },
    {
      "metadata": {
        "id": "PyiXHi2DkT4r",
        "colab_type": "code",
        "colab": {}
      },
      "cell_type": "code",
      "source": [
        "train_X = train_X.astype('float32') / 255\n",
        "test_X = test_X.astype('float32')/255"
      ],
      "execution_count": 0,
      "outputs": []
    },
    {
      "metadata": {
        "id": "RpKOAcYvi-wS",
        "colab_type": "code",
        "outputId": "d640461b-356f-4c33-e1e4-1a46cd289040",
        "colab": {
          "base_uri": "https://localhost:8080/",
          "height": 1062
        }
      },
      "cell_type": "code",
      "source": [
        "display(train_Y)\n"
      ],
      "execution_count": 11,
      "outputs": [
        {
          "output_type": "display_data",
          "data": {
            "text/plain": [
              "0         3\n",
              "1         6\n",
              "2         2\n",
              "3         2\n",
              "4        13\n",
              "5        16\n",
              "6         8\n",
              "7        22\n",
              "8         3\n",
              "9         3\n",
              "10       18\n",
              "11       10\n",
              "12       16\n",
              "13       22\n",
              "14       20\n",
              "15       16\n",
              "16       17\n",
              "17       13\n",
              "18       13\n",
              "19       19\n",
              "20       18\n",
              "21       21\n",
              "22       16\n",
              "23       23\n",
              "24        3\n",
              "25       23\n",
              "26       24\n",
              "27       18\n",
              "28       22\n",
              "29        1\n",
              "         ..\n",
              "27425    21\n",
              "27426    21\n",
              "27427     4\n",
              "27428    17\n",
              "27429     5\n",
              "27430    12\n",
              "27431    19\n",
              "27432     2\n",
              "27433    22\n",
              "27434    12\n",
              "27435     1\n",
              "27436    19\n",
              "27437    16\n",
              "27438    21\n",
              "27439    11\n",
              "27440     5\n",
              "27441    18\n",
              "27442     0\n",
              "27443    21\n",
              "27444    18\n",
              "27445    14\n",
              "27446    19\n",
              "27447    11\n",
              "27448    12\n",
              "27449    20\n",
              "27450    13\n",
              "27451    23\n",
              "27452    18\n",
              "27453    17\n",
              "27454    23\n",
              "Name: label, Length: 27455, dtype: int64"
            ]
          },
          "metadata": {
            "tags": []
          }
        }
      ]
    },
    {
      "metadata": {
        "id": "zRdBQOJ0bVvF",
        "colab_type": "code",
        "colab": {}
      },
      "cell_type": "code",
      "source": [
        "\n",
        "train_X = train_X.values.reshape(27455,784)\n",
        "test_X = test_X.values.reshape(7172,784)\n",
        "train_Y = keras.utils.to_categorical(train_Y,26)\n",
        "test_Y = keras.utils.to_categorical(test_Y,26)"
      ],
      "execution_count": 0,
      "outputs": []
    },
    {
      "metadata": {
        "id": "00fdB0Yvl1d8",
        "colab_type": "code",
        "colab": {}
      },
      "cell_type": "code",
      "source": [
        "model = Sequential()\n",
        "model.add(Dense(units=128,activation=\"relu\",input_shape=(784,)))\n",
        "model.add(Dense(units=128,activation=\"relu\"))\n",
        "model.add(Dense(units=128,activation=\"relu\"))\n",
        "model.add(Dense(units=128,activation=\"relu\"))\n",
        "model.add(Dense(units=128,activation=\"relu\"))\n",
        "model.add(Dense(units=26,activation=\"softmax\"))"
      ],
      "execution_count": 0,
      "outputs": []
    },
    {
      "metadata": {
        "id": "QIfU7or-fcAM",
        "colab_type": "code",
        "outputId": "a570dd53-470a-4dd2-f202-090fdd291622",
        "colab": {
          "base_uri": "https://localhost:8080/",
          "height": 3359
        }
      },
      "cell_type": "code",
      "source": [
        "model.compile(optimizer=SGD(0.001),loss=\"categorical_crossentropy\",metrics=[\"accuracy\"])\n",
        "model.fit(train_X,train_Y,batch_size=32,epochs=100,verbose=1)"
      ],
      "execution_count": 18,
      "outputs": [
        {
          "output_type": "stream",
          "text": [
            "Epoch 1/100\n",
            "27455/27455 [==============================] - 5s 171us/step - loss: 3.2353 - acc: 0.0505\n",
            "Epoch 2/100\n",
            "27455/27455 [==============================] - 4s 162us/step - loss: 3.1936 - acc: 0.0478\n",
            "Epoch 3/100\n",
            "27455/27455 [==============================] - 4s 161us/step - loss: 3.1550 - acc: 0.0547\n",
            "Epoch 4/100\n",
            "27455/27455 [==============================] - 4s 164us/step - loss: 3.1044 - acc: 0.1023\n",
            "Epoch 5/100\n",
            "27455/27455 [==============================] - 4s 161us/step - loss: 3.0325 - acc: 0.1639\n",
            "Epoch 6/100\n",
            "27455/27455 [==============================] - 4s 162us/step - loss: 2.9165 - acc: 0.1772\n",
            "Epoch 7/100\n",
            "27455/27455 [==============================] - 4s 159us/step - loss: 2.7596 - acc: 0.2104\n",
            "Epoch 8/100\n",
            "27455/27455 [==============================] - 4s 160us/step - loss: 2.5975 - acc: 0.2416\n",
            "Epoch 9/100\n",
            "27455/27455 [==============================] - 4s 162us/step - loss: 2.4310 - acc: 0.2705\n",
            "Epoch 10/100\n",
            "27455/27455 [==============================] - 4s 160us/step - loss: 2.2569 - acc: 0.3055\n",
            "Epoch 11/100\n",
            "27455/27455 [==============================] - 4s 160us/step - loss: 2.0973 - acc: 0.3460\n",
            "Epoch 12/100\n",
            "27455/27455 [==============================] - 4s 160us/step - loss: 1.9587 - acc: 0.3804\n",
            "Epoch 13/100\n",
            "27455/27455 [==============================] - 4s 161us/step - loss: 1.8474 - acc: 0.4154\n",
            "Epoch 14/100\n",
            "27455/27455 [==============================] - 4s 160us/step - loss: 1.7498 - acc: 0.4412\n",
            "Epoch 15/100\n",
            "27455/27455 [==============================] - 4s 161us/step - loss: 1.6630 - acc: 0.4679\n",
            "Epoch 16/100\n",
            "27455/27455 [==============================] - 4s 159us/step - loss: 1.5820 - acc: 0.4972\n",
            "Epoch 17/100\n",
            "27455/27455 [==============================] - 4s 161us/step - loss: 1.5068 - acc: 0.5221\n",
            "Epoch 18/100\n",
            "27455/27455 [==============================] - 5s 165us/step - loss: 1.4339 - acc: 0.5454\n",
            "Epoch 19/100\n",
            "27455/27455 [==============================] - 4s 163us/step - loss: 1.3638 - acc: 0.5645\n",
            "Epoch 20/100\n",
            "27455/27455 [==============================] - 4s 161us/step - loss: 1.2983 - acc: 0.5874\n",
            "Epoch 21/100\n",
            "27455/27455 [==============================] - 4s 158us/step - loss: 1.2351 - acc: 0.6061\n",
            "Epoch 22/100\n",
            "27455/27455 [==============================] - 4s 161us/step - loss: 1.1770 - acc: 0.6237\n",
            "Epoch 23/100\n",
            "27455/27455 [==============================] - 4s 161us/step - loss: 1.1224 - acc: 0.6407\n",
            "Epoch 24/100\n",
            "27455/27455 [==============================] - 4s 162us/step - loss: 1.0739 - acc: 0.6607\n",
            "Epoch 25/100\n",
            "27455/27455 [==============================] - 4s 159us/step - loss: 1.0249 - acc: 0.6773\n",
            "Epoch 26/100\n",
            "27455/27455 [==============================] - 4s 160us/step - loss: 0.9869 - acc: 0.6908\n",
            "Epoch 27/100\n",
            "27455/27455 [==============================] - 4s 161us/step - loss: 0.9424 - acc: 0.7049\n",
            "Epoch 28/100\n",
            "27455/27455 [==============================] - 4s 156us/step - loss: 0.9103 - acc: 0.7168\n",
            "Epoch 29/100\n",
            "27455/27455 [==============================] - 4s 159us/step - loss: 0.8732 - acc: 0.7308\n",
            "Epoch 30/100\n",
            "27455/27455 [==============================] - 4s 163us/step - loss: 0.8374 - acc: 0.7415\n",
            "Epoch 31/100\n",
            "27455/27455 [==============================] - 4s 164us/step - loss: 0.8066 - acc: 0.7533\n",
            "Epoch 32/100\n",
            "27455/27455 [==============================] - 4s 160us/step - loss: 0.7762 - acc: 0.7609\n",
            "Epoch 33/100\n",
            "27455/27455 [==============================] - 4s 159us/step - loss: 0.7474 - acc: 0.7722\n",
            "Epoch 34/100\n",
            "27455/27455 [==============================] - 4s 161us/step - loss: 0.7178 - acc: 0.7811\n",
            "Epoch 35/100\n",
            "27455/27455 [==============================] - 4s 159us/step - loss: 0.6899 - acc: 0.7915\n",
            "Epoch 36/100\n",
            "27455/27455 [==============================] - 4s 158us/step - loss: 0.6633 - acc: 0.8000\n",
            "Epoch 37/100\n",
            "27455/27455 [==============================] - 4s 158us/step - loss: 0.6386 - acc: 0.8073\n",
            "Epoch 38/100\n",
            "27455/27455 [==============================] - 4s 159us/step - loss: 0.6133 - acc: 0.8168\n",
            "Epoch 39/100\n",
            "27455/27455 [==============================] - 4s 158us/step - loss: 0.5913 - acc: 0.8231\n",
            "Epoch 40/100\n",
            "27455/27455 [==============================] - 4s 158us/step - loss: 0.5666 - acc: 0.8306\n",
            "Epoch 41/100\n",
            "27455/27455 [==============================] - 4s 159us/step - loss: 0.5423 - acc: 0.8384\n",
            "Epoch 42/100\n",
            "27455/27455 [==============================] - 4s 163us/step - loss: 0.5203 - acc: 0.8475\n",
            "Epoch 43/100\n",
            "27455/27455 [==============================] - 4s 158us/step - loss: 0.4932 - acc: 0.8568\n",
            "Epoch 44/100\n",
            "27455/27455 [==============================] - 4s 158us/step - loss: 0.4753 - acc: 0.8616\n",
            "Epoch 45/100\n",
            "27455/27455 [==============================] - 4s 159us/step - loss: 0.4544 - acc: 0.8674\n",
            "Epoch 46/100\n",
            "27455/27455 [==============================] - 4s 159us/step - loss: 0.4407 - acc: 0.8723\n",
            "Epoch 47/100\n",
            "27455/27455 [==============================] - 4s 153us/step - loss: 0.4182 - acc: 0.8793\n",
            "Epoch 48/100\n",
            "27455/27455 [==============================] - 4s 154us/step - loss: 0.4004 - acc: 0.8829\n",
            "Epoch 49/100\n",
            "27455/27455 [==============================] - 4s 154us/step - loss: 0.3776 - acc: 0.8908\n",
            "Epoch 50/100\n",
            "27455/27455 [==============================] - 4s 154us/step - loss: 0.3684 - acc: 0.8944\n",
            "Epoch 51/100\n",
            "27455/27455 [==============================] - 4s 153us/step - loss: 0.3441 - acc: 0.9026\n",
            "Epoch 52/100\n",
            "27455/27455 [==============================] - 4s 154us/step - loss: 0.3355 - acc: 0.9072\n",
            "Epoch 53/100\n",
            "27455/27455 [==============================] - 4s 157us/step - loss: 0.3129 - acc: 0.9139\n",
            "Epoch 54/100\n",
            "27455/27455 [==============================] - 4s 160us/step - loss: 0.3030 - acc: 0.9149\n",
            "Epoch 55/100\n",
            "27455/27455 [==============================] - 4s 160us/step - loss: 0.2831 - acc: 0.9237\n",
            "Epoch 56/100\n",
            "27455/27455 [==============================] - 4s 160us/step - loss: 0.2709 - acc: 0.9253\n",
            "Epoch 57/100\n",
            "27455/27455 [==============================] - 4s 161us/step - loss: 0.2573 - acc: 0.9336\n",
            "Epoch 58/100\n",
            "27455/27455 [==============================] - 4s 161us/step - loss: 0.2349 - acc: 0.9386\n",
            "Epoch 59/100\n",
            "27455/27455 [==============================] - 4s 160us/step - loss: 0.2274 - acc: 0.9410\n",
            "Epoch 60/100\n",
            "27455/27455 [==============================] - 4s 160us/step - loss: 0.2357 - acc: 0.9405\n",
            "Epoch 61/100\n",
            "27455/27455 [==============================] - 4s 159us/step - loss: 0.1994 - acc: 0.9508\n",
            "Epoch 62/100\n",
            "27455/27455 [==============================] - 4s 159us/step - loss: 0.2149 - acc: 0.9467\n",
            "Epoch 63/100\n",
            "27455/27455 [==============================] - 4s 159us/step - loss: 0.1785 - acc: 0.9577\n",
            "Epoch 64/100\n",
            "27455/27455 [==============================] - 4s 158us/step - loss: 0.1691 - acc: 0.9587\n",
            "Epoch 65/100\n",
            "27455/27455 [==============================] - 4s 159us/step - loss: 0.1673 - acc: 0.9591\n",
            "Epoch 66/100\n",
            "27455/27455 [==============================] - 4s 156us/step - loss: 0.1456 - acc: 0.9671\n",
            "Epoch 67/100\n",
            "27455/27455 [==============================] - 4s 153us/step - loss: 0.1659 - acc: 0.9623\n",
            "Epoch 68/100\n",
            "27455/27455 [==============================] - 4s 153us/step - loss: 0.1253 - acc: 0.9752\n",
            "Epoch 69/100\n",
            "27455/27455 [==============================] - 4s 154us/step - loss: 0.1507 - acc: 0.9704\n",
            "Epoch 70/100\n",
            "27455/27455 [==============================] - 4s 155us/step - loss: 0.1172 - acc: 0.9772\n",
            "Epoch 71/100\n",
            "27455/27455 [==============================] - 4s 153us/step - loss: 0.1226 - acc: 0.9737\n",
            "Epoch 72/100\n",
            "27455/27455 [==============================] - 4s 152us/step - loss: 0.1002 - acc: 0.9824\n",
            "Epoch 73/100\n",
            "27455/27455 [==============================] - 4s 153us/step - loss: 0.0935 - acc: 0.9842\n",
            "Epoch 74/100\n",
            "27455/27455 [==============================] - 4s 154us/step - loss: 0.1086 - acc: 0.9820\n",
            "Epoch 75/100\n",
            "27455/27455 [==============================] - 4s 154us/step - loss: 0.0944 - acc: 0.9844\n",
            "Epoch 76/100\n",
            "27455/27455 [==============================] - 4s 152us/step - loss: 0.0905 - acc: 0.9866\n",
            "Epoch 77/100\n",
            "27455/27455 [==============================] - 4s 154us/step - loss: 0.0715 - acc: 0.9904\n",
            "Epoch 78/100\n",
            "27455/27455 [==============================] - 4s 152us/step - loss: 0.0683 - acc: 0.9917\n",
            "Epoch 79/100\n",
            "27455/27455 [==============================] - 4s 153us/step - loss: 0.0631 - acc: 0.9927\n",
            "Epoch 80/100\n",
            "27455/27455 [==============================] - 4s 154us/step - loss: 0.1267 - acc: 0.9803\n",
            "Epoch 81/100\n",
            "27455/27455 [==============================] - 4s 154us/step - loss: 0.0588 - acc: 0.9934\n",
            "Epoch 82/100\n",
            "27455/27455 [==============================] - 4s 153us/step - loss: 0.0526 - acc: 0.9957\n",
            "Epoch 83/100\n",
            "27455/27455 [==============================] - 4s 153us/step - loss: 0.0949 - acc: 0.9861\n",
            "Epoch 84/100\n",
            "27455/27455 [==============================] - 4s 152us/step - loss: 0.0489 - acc: 0.9952\n",
            "Epoch 85/100\n",
            "27455/27455 [==============================] - 4s 153us/step - loss: 0.0505 - acc: 0.9945\n",
            "Epoch 86/100\n",
            "27455/27455 [==============================] - 4s 152us/step - loss: 0.0440 - acc: 0.9963\n",
            "Epoch 87/100\n",
            "27455/27455 [==============================] - 4s 154us/step - loss: 0.0410 - acc: 0.9965\n",
            "Epoch 88/100\n",
            "27455/27455 [==============================] - 4s 154us/step - loss: 0.0395 - acc: 0.9970\n",
            "Epoch 89/100\n",
            "27455/27455 [==============================] - 4s 159us/step - loss: 0.0360 - acc: 0.9980\n",
            "Epoch 90/100\n",
            "27455/27455 [==============================] - 4s 155us/step - loss: 0.0362 - acc: 0.9970\n",
            "Epoch 91/100\n",
            "27455/27455 [==============================] - 4s 155us/step - loss: 0.1516 - acc: 0.9810\n",
            "Epoch 92/100\n",
            "27455/27455 [==============================] - 4s 154us/step - loss: 0.0352 - acc: 0.9979\n",
            "Epoch 93/100\n",
            "27455/27455 [==============================] - 4s 153us/step - loss: 0.0317 - acc: 0.9983\n",
            "Epoch 94/100\n",
            "27455/27455 [==============================] - 4s 158us/step - loss: 0.0309 - acc: 0.9983\n",
            "Epoch 95/100\n",
            "27455/27455 [==============================] - 4s 160us/step - loss: 0.0282 - acc: 0.9985\n",
            "Epoch 96/100\n",
            "27455/27455 [==============================] - 4s 161us/step - loss: 0.0279 - acc: 0.9984\n",
            "Epoch 97/100\n",
            "27455/27455 [==============================] - 4s 159us/step - loss: 0.0315 - acc: 0.9973\n",
            "Epoch 98/100\n",
            "27455/27455 [==============================] - 4s 157us/step - loss: 0.0245 - acc: 0.9989\n",
            "Epoch 99/100\n",
            "27455/27455 [==============================] - 4s 158us/step - loss: 0.0246 - acc: 0.9986\n",
            "Epoch 100/100\n",
            "27455/27455 [==============================] - 4s 158us/step - loss: 0.1198 - acc: 0.9827\n"
          ],
          "name": "stdout"
        },
        {
          "output_type": "execute_result",
          "data": {
            "text/plain": [
              "<keras.callbacks.History at 0x7f16d0030ba8>"
            ]
          },
          "metadata": {
            "tags": []
          },
          "execution_count": 18
        }
      ]
    },
    {
      "metadata": {
        "id": "tmXKzSMSfgDS",
        "colab_type": "code",
        "outputId": "226ed580-45e6-479e-9576-2fc469348fd5",
        "colab": {
          "base_uri": "https://localhost:8080/",
          "height": 92
        }
      },
      "cell_type": "code",
      "source": [
        "accuracy = model.evaluate(x=test_X,y=test_Y,batch_size=32)\n",
        "print(\"Accuracy: \",accuracy[1])"
      ],
      "execution_count": 19,
      "outputs": [
        {
          "output_type": "stream",
          "text": [
            "7172/7172 [==============================] - 0s 69us/step\n",
            "Accuracy:  0.6868377021751255\n"
          ],
          "name": "stdout"
        }
      ]
    },
    {
      "metadata": {
        "id": "QFWBt201hlEf",
        "colab_type": "code",
        "outputId": "14a91e7e-72a3-479d-ec39-789c06ad6168",
        "colab": {
          "base_uri": "https://localhost:8080/",
          "height": 74
        }
      },
      "cell_type": "code",
      "source": [
        "img = test_X[1]\n",
        "test_img = img.reshape((1,784))\n",
        "img_class = model.predict_classes(test_img)\n",
        "prediction = img_class[0]\n",
        "classname = img_class[0]\n",
        "print(\"Class: \",classname)\n"
      ],
      "execution_count": 16,
      "outputs": [
        {
          "output_type": "stream",
          "text": [
            "Class:  5\n"
          ],
          "name": "stdout"
        }
      ]
    },
    {
      "metadata": {
        "id": "5Yzwqb7Fhojk",
        "colab_type": "code",
        "outputId": "a22d2978-ca5e-4dd3-fee1-afdb1a1a82e8",
        "colab": {
          "base_uri": "https://localhost:8080/",
          "height": 382
        }
      },
      "cell_type": "code",
      "source": [
        "img = img.reshape((28,28))\n",
        "plt.imshow(img)\n",
        "plt.title(classname)\n",
        "plt.show()"
      ],
      "execution_count": 17,
      "outputs": [
        {
          "output_type": "display_data",
          "data": {
            "image/png": "[encoded data removed]",
            "text/plain": [
              "<Figure size 576x396 with 1 Axes>"
            ]
          },
          "metadata": {
            "tags": []
          }
        }
      ]
    },
    {
      "metadata": {
        "id": "3NldTeSghsHB",
        "colab_type": "code",
        "colab": {
          "base_uri": "https://localhost:8080/",
          "height": 94
        },
        "outputId": "2ce7b919-50c1-4cde-b2c7-05a8f2d8d717"
      },
      "cell_type": "code",
      "source": [
        "model.save_weights('model_weights.h5')\n",
        "weights_file = drive.CreateFile({'title' : 'model_weights.h5'})\n",
        "weights_file.SetContentFile('model_weights.h5')\n",
        "weights_file.Upload()\n",
        "drive.CreateFile({'id': weights_file.get('id')})"
      ],
      "execution_count": 18,
      "outputs": [
        {
          "output_type": "execute_result",
          "data": {
            "text/plain": [
              "GoogleDriveFile({'id': '1RvY2_T0hQ-8fO7Rgj5C3FgoWkuCA-ICa'})"
            ]
          },
          "metadata": {
            "tags": []
          },
          "execution_count": 18
        }
      ]
    },
    {
      "metadata": {
        "id": "b3MJfJrWyGNH",
        "colab_type": "code",
        "colab": {
          "base_uri": "https://localhost:8080/",
          "height": 94
        },
        "outputId": "9ccecde1-5cca-4397-f338-72155c24d8a2"
      },
      "cell_type": "code",
      "source": [
        "model.save('model.h5')\n",
        "weights_file = drive.CreateFile({'title' : 'model.h5'})\n",
        "weights_file.SetContentFile('model.h5')\n",
        "weights_file.Upload()\n",
        "drive.CreateFile({'id': weights_file.get('id')})"
      ],
      "execution_count": 21,
      "outputs": [
        {
          "output_type": "execute_result",
          "data": {
            "text/plain": [
              "GoogleDriveFile({'id': '1Cs0mkCbgKFYgFYIr9JPgVq_iZb0V3psf'})"
            ]
          },
          "metadata": {
            "tags": []
          },
          "execution_count": 21
        }
      ]
    },
    {
      "metadata": {
        "id": "WFgvZoNXqsCJ",
        "colab_type": "code",
        "colab": {
          "base_uri": "https://localhost:8080/",
          "height": 173
        },
        "outputId": "b5894724-4551-4efd-ffe9-41c446c360f7"
      },
      "cell_type": "code",
      "source": [
        "!pip install h5py pyyaml "
      ],
      "execution_count": 19,
      "outputs": [
        {
          "output_type": "stream",
          "text": [
            "Requirement already satisfied: h5py in /usr/local/lib/python3.6/dist-packages (2.8.0)\n",
            "Requirement already satisfied: pyyaml in /usr/local/lib/python3.6/dist-packages (3.13)\n",
            "Requirement already satisfied: six in /usr/local/lib/python3.6/dist-packages (from h5py) (1.11.0)\n",
            "Requirement already satisfied: numpy>=1.7 in /usr/local/lib/python3.6/dist-packages (from h5py) (1.14.6)\n"
          ],
          "name": "stdout"
        }
      ]
    },
    {
      "metadata": {
        "id": "y7SmbytZx6Wa",
        "colab_type": "code",
        "colab": {}
      },
      "cell_type": "code",
      "source": [
        ""
      ],
      "execution_count": 0,
      "outputs": []
    }
  ]
}